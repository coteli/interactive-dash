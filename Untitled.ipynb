{
 "cells": [
  {
   "cell_type": "code",
   "execution_count": 1,
   "id": "194f517f",
   "metadata": {},
   "outputs": [],
   "source": [
    "import numpy as np\n",
    "import pandas as pd\n",
    "import plotly.express as px\n",
    "\n",
    "from urllib.request import urlopen\n",
    "import json"
   ]
  },
  {
   "cell_type": "code",
   "execution_count": 3,
   "id": "d5c73492",
   "metadata": {},
   "outputs": [],
   "source": [
    "df = pd.read_csv(\"ilceler.csv\")"
   ]
  },
  {
   "cell_type": "code",
   "execution_count": 4,
   "id": "586a1cef",
   "metadata": {},
   "outputs": [],
   "source": [
    "df[\"ilce-il\"] = df.ilce + \" \" + \"(\" + df.il + \")\""
   ]
  },
  {
   "cell_type": "code",
   "execution_count": 5,
   "id": "843d8053",
   "metadata": {},
   "outputs": [],
   "source": [
    "df = df[['il', 'ilce', 'ilce-il', 'yil', 'ay', 'satis']]"
   ]
  },
  {
   "cell_type": "code",
   "execution_count": 6,
   "id": "fd1bdd8f",
   "metadata": {},
   "outputs": [],
   "source": [
    "df.to_csv(\"ilcelerr.csv\")"
   ]
  },
  {
   "cell_type": "code",
   "execution_count": 13,
   "id": "dcb7baf7",
   "metadata": {},
   "outputs": [
    {
     "data": {
      "text/html": [
       "<div>\n",
       "<style scoped>\n",
       "    .dataframe tbody tr th:only-of-type {\n",
       "        vertical-align: middle;\n",
       "    }\n",
       "\n",
       "    .dataframe tbody tr th {\n",
       "        vertical-align: top;\n",
       "    }\n",
       "\n",
       "    .dataframe thead th {\n",
       "        text-align: right;\n",
       "    }\n",
       "</style>\n",
       "<table border=\"1\" class=\"dataframe\">\n",
       "  <thead>\n",
       "    <tr style=\"text-align: right;\">\n",
       "      <th></th>\n",
       "      <th>yil</th>\n",
       "      <th>il</th>\n",
       "      <th>ay</th>\n",
       "      <th>satis</th>\n",
       "    </tr>\n",
       "  </thead>\n",
       "  <tbody>\n",
       "    <tr>\n",
       "      <th>0</th>\n",
       "      <td>2015</td>\n",
       "      <td>Adana</td>\n",
       "      <td>665</td>\n",
       "      <td>23109</td>\n",
       "    </tr>\n",
       "    <tr>\n",
       "      <th>1</th>\n",
       "      <td>2015</td>\n",
       "      <td>Adıyaman</td>\n",
       "      <td>237</td>\n",
       "      <td>4626</td>\n",
       "    </tr>\n",
       "    <tr>\n",
       "      <th>2</th>\n",
       "      <td>2015</td>\n",
       "      <td>Afyonkarahisar</td>\n",
       "      <td>373</td>\n",
       "      <td>7053</td>\n",
       "    </tr>\n",
       "    <tr>\n",
       "      <th>3</th>\n",
       "      <td>2015</td>\n",
       "      <td>Aksaray</td>\n",
       "      <td>149</td>\n",
       "      <td>5054</td>\n",
       "    </tr>\n",
       "    <tr>\n",
       "      <th>4</th>\n",
       "      <td>2015</td>\n",
       "      <td>Amasya</td>\n",
       "      <td>234</td>\n",
       "      <td>4096</td>\n",
       "    </tr>\n",
       "    <tr>\n",
       "      <th>...</th>\n",
       "      <td>...</td>\n",
       "      <td>...</td>\n",
       "      <td>...</td>\n",
       "      <td>...</td>\n",
       "    </tr>\n",
       "    <tr>\n",
       "      <th>640</th>\n",
       "      <td>2022</td>\n",
       "      <td>Çorum</td>\n",
       "      <td>46</td>\n",
       "      <td>3200</td>\n",
       "    </tr>\n",
       "    <tr>\n",
       "      <th>641</th>\n",
       "      <td>2022</td>\n",
       "      <td>İstanbul</td>\n",
       "      <td>584</td>\n",
       "      <td>106302</td>\n",
       "    </tr>\n",
       "    <tr>\n",
       "      <th>642</th>\n",
       "      <td>2022</td>\n",
       "      <td>İzmir</td>\n",
       "      <td>397</td>\n",
       "      <td>34514</td>\n",
       "    </tr>\n",
       "    <tr>\n",
       "      <th>643</th>\n",
       "      <td>2022</td>\n",
       "      <td>Şanlıurfa</td>\n",
       "      <td>116</td>\n",
       "      <td>9349</td>\n",
       "    </tr>\n",
       "    <tr>\n",
       "      <th>644</th>\n",
       "      <td>2022</td>\n",
       "      <td>Şırnak</td>\n",
       "      <td>21</td>\n",
       "      <td>405</td>\n",
       "    </tr>\n",
       "  </tbody>\n",
       "</table>\n",
       "<p>645 rows × 4 columns</p>\n",
       "</div>"
      ],
      "text/plain": [
       "      yil              il   ay   satis\n",
       "0    2015           Adana  665   23109\n",
       "1    2015        Adıyaman  237    4626\n",
       "2    2015  Afyonkarahisar  373    7053\n",
       "3    2015         Aksaray  149    5054\n",
       "4    2015          Amasya  234    4096\n",
       "..    ...             ...  ...     ...\n",
       "640  2022           Çorum   46    3200\n",
       "641  2022        İstanbul  584  106302\n",
       "642  2022           İzmir  397   34514\n",
       "643  2022       Şanlıurfa  116    9349\n",
       "644  2022          Şırnak   21     405\n",
       "\n",
       "[645 rows x 4 columns]"
      ]
     },
     "execution_count": 13,
     "metadata": {},
     "output_type": "execute_result"
    }
   ],
   "source": [
    "df.groupby([\"yil\", \"il\"]).sum().reset_index()"
   ]
  },
  {
   "cell_type": "code",
   "execution_count": null,
   "id": "78a8054f",
   "metadata": {},
   "outputs": [],
   "source": []
  }
 ],
 "metadata": {
  "kernelspec": {
   "display_name": "Python 3",
   "language": "python",
   "name": "python3"
  },
  "language_info": {
   "codemirror_mode": {
    "name": "ipython",
    "version": 3
   },
   "file_extension": ".py",
   "mimetype": "text/x-python",
   "name": "python",
   "nbconvert_exporter": "python",
   "pygments_lexer": "ipython3",
   "version": "3.8.8"
  }
 },
 "nbformat": 4,
 "nbformat_minor": 5
}
